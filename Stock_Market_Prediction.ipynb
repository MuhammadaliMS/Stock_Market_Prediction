{
  "nbformat": 4,
  "nbformat_minor": 0,
  "metadata": {
    "accelerator": "GPU",
    "colab": {
      "name": "Stock_Market_Prediction.ipynb",
      "provenance": [],
      "collapsed_sections": [],
      "toc_visible": true,
      "include_colab_link": true
    },
    "kernelspec": {
      "name": "python3",
      "display_name": "Python 3"
    }
  },
  "cells": [
    {
      "cell_type": "markdown",
      "metadata": {
        "id": "view-in-github",
        "colab_type": "text"
      },
      "source": [
        "<a href=\"https://colab.research.google.com/github/MuhammadaliMS/Stock_Market_Prediction/blob/master/Stock_Market_Prediction.ipynb\" target=\"_parent\"><img src=\"https://colab.research.google.com/assets/colab-badge.svg\" alt=\"Open In Colab\"/></a>"
      ]
    },
    {
      "cell_type": "code",
      "metadata": {
        "cellView": "form",
        "colab_type": "code",
        "id": "Eq10uEbw0E4l",
        "colab": {}
      },
      "source": [
        "#@title Licensed under the Apache License, Version 2.0 (the \"License\");\n",
        "# you may not use this file except in compliance with the License.\n",
        "# You may obtain a copy of the License at\n",
        "#\n",
        "# https://www.apache.org/licenses/LICENSE-2.0\n",
        "#\n",
        "# Unless required by applicable law or agreed to in writing, software\n",
        "# distributed under the License is distributed on an \"AS IS\" BASIS,\n",
        "# WITHOUT WARRANTIES OR CONDITIONS OF ANY KIND, either express or implied.\n",
        "# See the License for the specific language governing permissions and\n",
        "# limitations under the License."
      ],
      "execution_count": null,
      "outputs": []
    },
    {
      "cell_type": "markdown",
      "metadata": {
        "colab_type": "text",
        "id": "Tt5S6SiPi7ze"
      },
      "source": [
        "# Forecasting with a CNN"
      ]
    },
    {
      "cell_type": "markdown",
      "metadata": {
        "colab_type": "text",
        "id": "vidayERjaO5q"
      },
      "source": [
        "## Setup"
      ]
    },
    {
      "cell_type": "code",
      "metadata": {
        "colab_type": "code",
        "id": "gqWabzlJ63nL",
        "colab": {
          "base_uri": "https://localhost:8080/",
          "height": 54
        },
        "outputId": "8fa3e27b-2e88-44b1-87ea-d30ffba95df3"
      },
      "source": [
        "import numpy as np\n",
        "import tensorflow as tf\n",
        "import pandas as pd\n",
        "import matplotlib.pyplot as plt\n",
        "keras = tf.keras\n",
        "from google.colab import auth\n",
        "auth.authenticate_user()\n",
        "import gspread\n",
        "from oauth2client.client import GoogleCredentials\n",
        "#include the google spreadsheet link for the data \n",
        "gc = gspread.authorize(GoogleCredentials.get_application_default())\n",
        "wb = gc.open_by_url('https://docs.google.com/spreadsheets/d/1DA-iyFHPxsL0uz5y59zHXoVT0MtMUfUpPdZ88_JIsm8/edit#gid=1397218343')\n",
        "#20MICRONS is the ticker data for the stock\n",
        "sheet = wb.worksheet('20MICRONS')\n",
        "data = sheet.get_all_values()\n",
        "df = pd.DataFrame(data)\n",
        "df.columns = df.iloc[0]\n",
        "df = df.iloc[1:]\n",
        "df.head()\n",
        "(df.High.values)"
      ],
      "execution_count": 1,
      "outputs": [
        {
          "output_type": "execute_result",
          "data": {
            "text/plain": [
              "array(['23.95', '24.08', '23.88', ..., '27.95', '29', '27.8'],\n",
              "      dtype=object)"
            ]
          },
          "metadata": {
            "tags": []
          },
          "execution_count": 1
        }
      ]
    },
    {
      "cell_type": "code",
      "metadata": {
        "colab_type": "code",
        "id": "cg1hfKCPldZG",
        "colab": {}
      },
      "source": [
        "def plot_series(time, series, format=\"-\", start=0, end=None, label=None):\n",
        "    plt.plot(time[start:end], series[start:end], format, label=label)\n",
        "    plt.xlabel(\"Time\")\n",
        "    plt.ylabel(\"Value\")\n",
        "    if label:\n",
        "        plt.legend(fontsize=14)\n",
        "    plt.grid(True)\n",
        "\n",
        "# this function creates the X and Y for model training \n",
        "def seq2seq_window_dataset(series, window_size, batch_size=32,\n",
        "                           shuffle_buffer=2000):\n",
        "    series = tf.expand_dims(series, axis=-1) \n",
        "    ds = tf.data.Dataset.from_tensor_slices(series)\n",
        "    ds = ds.window(window_size + 1, shift=1, drop_remainder=True)\n",
        "    ds = ds.flat_map(lambda w: w.batch(window_size + 1))\n",
        "    ds = ds.shuffle(shuffle_buffer)\n",
        "    ds = ds.map(lambda w: (w[:-1], w[1:]))\n",
        "    return ds.batch(batch_size).prefetch(1)\n",
        "  \n",
        "# prepares the input data for forecast\n",
        "def model_forecast(model, series, window_size):\n",
        "    ds = tf.data.Dataset.from_tensor_slices(series)\n",
        "    ds = ds.window(window_size, shift=1, drop_remainder=True)\n",
        "    ds = ds.flat_map(lambda w: w.batch(window_size))\n",
        "    ds = ds.batch(32).prefetch(1)\n",
        "    forecast = model.predict(ds)\n",
        "    return forecast"
      ],
      "execution_count": 2,
      "outputs": []
    },
    {
      "cell_type": "code",
      "metadata": {
        "colab_type": "code",
        "id": "iL2DDjV3lel6",
        "colab": {
          "base_uri": "https://localhost:8080/",
          "height": 279
        },
        "outputId": "c8257f5f-8cee-47f2-df66-ec3da5b4b281"
      },
      "source": [
        "#the data from google sheets comes as strings. So converting to float below\n",
        "time= df.Date.astype(float)\n",
        "series = df.High.values.astype(float)\n",
        "plot_series(time, series)"
      ],
      "execution_count": 3,
      "outputs": [
        {
          "output_type": "display_data",
          "data": {
            "image/png": "[encoded data removed]",
            "text/plain": [
              "<Figure size 432x288 with 1 Axes>"
            ]
          },
          "metadata": {
            "tags": [],
            "needs_background": "light"
          }
        }
      ]
    },
    {
      "cell_type": "markdown",
      "metadata": {
        "id": "U0p0ySav14Qd",
        "colab_type": "text"
      },
      "source": [
        "# Splitting training and validation data "
      ]
    },
    {
      "cell_type": "code",
      "metadata": {
        "colab_type": "code",
        "id": "Zmp1JXKxk9Vb",
        "colab": {
          "base_uri": "https://localhost:8080/",
          "height": 35
        },
        "outputId": "2d418704-99dc-4d4f-ae10-3213b9618c4a"
      },
      "source": [
        "split_time = 2000\n",
        "time_train = time[:split_time]\n",
        "x_train = series[:split_time]\n",
        "time_valid = time[split_time:]\n",
        "x_valid = series[split_time:]\n",
        "x_train"
      ],
      "execution_count": 4,
      "outputs": [
        {
          "output_type": "execute_result",
          "data": {
            "text/plain": [
              "array([23.95, 24.08, 23.88, ..., 48.55, 47.1 , 49.9 ])"
            ]
          },
          "metadata": {
            "tags": []
          },
          "execution_count": 4
        }
      ]
    },
    {
      "cell_type": "markdown",
      "metadata": {
        "colab_type": "text",
        "id": "DI2GlupZ8OJW"
      },
      "source": [
        "## Preprocessing With 1D-Convolutional Layers"
      ]
    },
    {
      "cell_type": "code",
      "metadata": {
        "colab_type": "code",
        "id": "6GFE82ci8OJW",
        "colab": {
          "base_uri": "https://localhost:8080/",
          "height": 35
        },
        "outputId": "12182723-5f74-4650-de4f-e6375a1953da"
      },
      "source": [
        "keras.backend.clear_session()\n",
        "tf.random.set_seed(42)\n",
        "np.random.seed(42)\n",
        "\n",
        "window_size = 30\n",
        "train_set = seq2seq_window_dataset(x_train, window_size,\n",
        "                                   batch_size=128)\n",
        "train_set\n"
      ],
      "execution_count": 5,
      "outputs": [
        {
          "output_type": "execute_result",
          "data": {
            "text/plain": [
              "<PrefetchDataset shapes: ((None, None, 1), (None, None, 1)), types: (tf.float64, tf.float64)>"
            ]
          },
          "metadata": {
            "tags": []
          },
          "execution_count": 5
        }
      ]
    },
    {
      "cell_type": "markdown",
      "metadata": {
        "colab_type": "text",
        "id": "kfPTmghd8OJe"
      },
      "source": [
        "## Fully Convolutional Forecasting for optimizing the learning rate"
      ]
    },
    {
      "cell_type": "code",
      "metadata": {
        "colab_type": "code",
        "id": "4-cPF5CX8OJf",
        "colab": {
          "base_uri": "https://localhost:8080/",
          "height": 1000
        },
        "outputId": "dc7c9aee-a6c3-4577-ae85-27e4fdbf95ea"
      },
      "source": [
        "keras.backend.clear_session()\n",
        "tf.random.set_seed(42)\n",
        "np.random.seed(42)\n",
        "\n",
        "window_size = 64\n",
        "#\n",
        "train_set = seq2seq_window_dataset(x_train, window_size,\n",
        "                                   batch_size=128)\n",
        "\n",
        "model = keras.models.Sequential()\n",
        "model.add(keras.layers.InputLayer(input_shape=[None, 1]))\n",
        "for dilation_rate in (1, 2, 4, 8, 16, 32):\n",
        "    model.add(\n",
        "      keras.layers.Conv1D(filters=32,\n",
        "                          kernel_size=2,\n",
        "                          strides=1,\n",
        "                          dilation_rate=dilation_rate,\n",
        "                          padding=\"causal\",\n",
        "                          activation=\"relu\")\n",
        "    )\n",
        "model.add(keras.layers.Conv1D(filters=1, kernel_size=1))\n",
        "#creating a callback for optmizing learning rate\n",
        "lr_schedule = keras.callbacks.LearningRateScheduler(\n",
        "    lambda epoch: 1e-4 * 10**(epoch / 30))\n",
        "optimizer = keras.optimizers.Adam(lr=1e-4)\n",
        "model.compile(loss=keras.losses.Huber(),\n",
        "              optimizer=optimizer,\n",
        "              metrics=[\"mae\"])\n",
        "history = model.fit(train_set, epochs=100, callbacks=[lr_schedule])"
      ],
      "execution_count": 6,
      "outputs": [
        {
          "output_type": "stream",
          "text": [
            "Epoch 1/100\n",
            "16/16 [==============================] - 0s 28ms/step - loss: 34.8762 - mae: 35.3762 - lr: 1.0000e-04\n",
            "Epoch 2/100\n",
            "16/16 [==============================] - 0s 13ms/step - loss: 34.2746 - mae: 34.7746 - lr: 1.0798e-04\n",
            "Epoch 3/100\n",
            "16/16 [==============================] - 0s 14ms/step - loss: 33.5014 - mae: 34.0014 - lr: 1.1659e-04\n",
            "Epoch 4/100\n",
            "16/16 [==============================] - 0s 13ms/step - loss: 32.2195 - mae: 32.7195 - lr: 1.2589e-04\n",
            "Epoch 5/100\n",
            "16/16 [==============================] - 0s 13ms/step - loss: 29.4685 - mae: 29.9685 - lr: 1.3594e-04\n",
            "Epoch 6/100\n",
            "16/16 [==============================] - 0s 15ms/step - loss: 23.2009 - mae: 23.7008 - lr: 1.4678e-04\n",
            "Epoch 7/100\n",
            "16/16 [==============================] - 0s 14ms/step - loss: 14.9406 - mae: 15.4329 - lr: 1.5849e-04\n",
            "Epoch 8/100\n",
            "16/16 [==============================] - 0s 15ms/step - loss: 12.9853 - mae: 13.4789 - lr: 1.7113e-04\n",
            "Epoch 9/100\n",
            "16/16 [==============================] - 0s 14ms/step - loss: 10.7579 - mae: 11.2453 - lr: 1.8478e-04\n",
            "Epoch 10/100\n",
            "16/16 [==============================] - 0s 15ms/step - loss: 8.0619 - mae: 8.5456 - lr: 1.9953e-04\n",
            "Epoch 11/100\n",
            "16/16 [==============================] - 0s 15ms/step - loss: 4.9746 - mae: 5.4413 - lr: 2.1544e-04\n",
            "Epoch 12/100\n",
            "16/16 [==============================] - 0s 14ms/step - loss: 3.3815 - mae: 3.8262 - lr: 2.3263e-04\n",
            "Epoch 13/100\n",
            "16/16 [==============================] - 0s 14ms/step - loss: 2.6736 - mae: 3.0949 - lr: 2.5119e-04\n",
            "Epoch 14/100\n",
            "16/16 [==============================] - 0s 14ms/step - loss: 2.3170 - mae: 2.7282 - lr: 2.7123e-04\n",
            "Epoch 15/100\n",
            "16/16 [==============================] - 0s 15ms/step - loss: 2.0629 - mae: 2.4683 - lr: 2.9286e-04\n",
            "Epoch 16/100\n",
            "16/16 [==============================] - 0s 15ms/step - loss: 1.7791 - mae: 2.1758 - lr: 3.1623e-04\n",
            "Epoch 17/100\n",
            "16/16 [==============================] - 0s 15ms/step - loss: 1.4929 - mae: 1.8795 - lr: 3.4145e-04\n",
            "Epoch 18/100\n",
            "16/16 [==============================] - 0s 15ms/step - loss: 1.1484 - mae: 1.5274 - lr: 3.6869e-04\n",
            "Epoch 19/100\n",
            "16/16 [==============================] - 0s 15ms/step - loss: 0.8968 - mae: 1.2676 - lr: 3.9811e-04\n",
            "Epoch 20/100\n",
            "16/16 [==============================] - 0s 16ms/step - loss: 0.7116 - mae: 1.0728 - lr: 4.2987e-04\n",
            "Epoch 21/100\n",
            "16/16 [==============================] - 0s 14ms/step - loss: 0.6104 - mae: 0.9600 - lr: 4.6416e-04\n",
            "Epoch 22/100\n",
            "16/16 [==============================] - 0s 14ms/step - loss: 0.5814 - mae: 0.9221 - lr: 5.0119e-04\n",
            "Epoch 23/100\n",
            "16/16 [==============================] - 0s 14ms/step - loss: 0.5677 - mae: 0.9047 - lr: 5.4117e-04\n",
            "Epoch 24/100\n",
            "16/16 [==============================] - 0s 15ms/step - loss: 0.5633 - mae: 0.9000 - lr: 5.8434e-04\n",
            "Epoch 25/100\n",
            "16/16 [==============================] - 0s 14ms/step - loss: 0.6173 - mae: 0.9775 - lr: 6.3096e-04\n",
            "Epoch 26/100\n",
            "16/16 [==============================] - 0s 13ms/step - loss: 0.5528 - mae: 0.8862 - lr: 6.8129e-04\n",
            "Epoch 27/100\n",
            "16/16 [==============================] - 0s 16ms/step - loss: 0.5411 - mae: 0.8698 - lr: 7.3564e-04\n",
            "Epoch 28/100\n",
            "16/16 [==============================] - 0s 16ms/step - loss: 0.5678 - mae: 0.9110 - lr: 7.9433e-04\n",
            "Epoch 29/100\n",
            "16/16 [==============================] - 0s 15ms/step - loss: 0.5751 - mae: 0.9213 - lr: 8.5770e-04\n",
            "Epoch 30/100\n",
            "16/16 [==============================] - 0s 14ms/step - loss: 0.6034 - mae: 0.9622 - lr: 9.2612e-04\n",
            "Epoch 31/100\n",
            "16/16 [==============================] - 0s 15ms/step - loss: 0.5562 - mae: 0.8930 - lr: 0.0010\n",
            "Epoch 32/100\n",
            "16/16 [==============================] - 0s 14ms/step - loss: 0.5860 - mae: 0.9387 - lr: 0.0011\n",
            "Epoch 33/100\n",
            "16/16 [==============================] - 0s 14ms/step - loss: 0.6112 - mae: 0.9689 - lr: 0.0012\n",
            "Epoch 34/100\n",
            "16/16 [==============================] - 0s 14ms/step - loss: 0.6354 - mae: 1.0044 - lr: 0.0013\n",
            "Epoch 35/100\n",
            "16/16 [==============================] - 0s 15ms/step - loss: 0.5994 - mae: 0.9570 - lr: 0.0014\n",
            "Epoch 36/100\n",
            "16/16 [==============================] - 0s 14ms/step - loss: 0.5930 - mae: 0.9504 - lr: 0.0015\n",
            "Epoch 37/100\n",
            "16/16 [==============================] - 0s 13ms/step - loss: 0.7140 - mae: 1.1009 - lr: 0.0016\n",
            "Epoch 38/100\n",
            "16/16 [==============================] - 0s 13ms/step - loss: 0.6370 - mae: 1.0097 - lr: 0.0017\n",
            "Epoch 39/100\n",
            "16/16 [==============================] - 0s 14ms/step - loss: 0.6338 - mae: 1.0017 - lr: 0.0018\n",
            "Epoch 40/100\n",
            "16/16 [==============================] - 0s 16ms/step - loss: 0.6839 - mae: 1.0684 - lr: 0.0020\n",
            "Epoch 41/100\n",
            "16/16 [==============================] - 0s 15ms/step - loss: 0.7160 - mae: 1.1123 - lr: 0.0022\n",
            "Epoch 42/100\n",
            "16/16 [==============================] - 0s 15ms/step - loss: 0.7702 - mae: 1.1630 - lr: 0.0023\n",
            "Epoch 43/100\n",
            "16/16 [==============================] - 0s 15ms/step - loss: 0.7043 - mae: 1.0862 - lr: 0.0025\n",
            "Epoch 44/100\n",
            "16/16 [==============================] - 0s 15ms/step - loss: 0.8275 - mae: 1.2320 - lr: 0.0027\n",
            "Epoch 45/100\n",
            "16/16 [==============================] - 0s 14ms/step - loss: 0.8150 - mae: 1.2346 - lr: 0.0029\n",
            "Epoch 46/100\n",
            "16/16 [==============================] - 0s 15ms/step - loss: 0.8047 - mae: 1.2043 - lr: 0.0032\n",
            "Epoch 47/100\n",
            "16/16 [==============================] - 0s 14ms/step - loss: 0.7741 - mae: 1.1698 - lr: 0.0034\n",
            "Epoch 48/100\n",
            "16/16 [==============================] - 0s 15ms/step - loss: 0.9018 - mae: 1.3302 - lr: 0.0037\n",
            "Epoch 49/100\n",
            "16/16 [==============================] - 0s 16ms/step - loss: 0.7690 - mae: 1.1506 - lr: 0.0040\n",
            "Epoch 50/100\n",
            "16/16 [==============================] - 0s 15ms/step - loss: 1.0000 - mae: 1.4108 - lr: 0.0043\n",
            "Epoch 51/100\n",
            "16/16 [==============================] - 0s 15ms/step - loss: 0.9207 - mae: 1.3206 - lr: 0.0046\n",
            "Epoch 52/100\n",
            "16/16 [==============================] - 0s 14ms/step - loss: 1.0565 - mae: 1.4956 - lr: 0.0050\n",
            "Epoch 53/100\n",
            "16/16 [==============================] - 0s 14ms/step - loss: 1.1210 - mae: 1.5718 - lr: 0.0054\n",
            "Epoch 54/100\n",
            "16/16 [==============================] - 0s 14ms/step - loss: 1.0708 - mae: 1.5016 - lr: 0.0058\n",
            "Epoch 55/100\n",
            "16/16 [==============================] - 0s 15ms/step - loss: 1.0988 - mae: 1.5347 - lr: 0.0063\n",
            "Epoch 56/100\n",
            "16/16 [==============================] - 0s 14ms/step - loss: 1.1162 - mae: 1.5547 - lr: 0.0068\n",
            "Epoch 57/100\n",
            "16/16 [==============================] - 0s 15ms/step - loss: 1.3109 - mae: 1.7771 - lr: 0.0074\n",
            "Epoch 58/100\n",
            "16/16 [==============================] - 0s 14ms/step - loss: 1.2746 - mae: 1.7346 - lr: 0.0079\n",
            "Epoch 59/100\n",
            "16/16 [==============================] - 0s 15ms/step - loss: 1.1481 - mae: 1.5770 - lr: 0.0086\n",
            "Epoch 60/100\n",
            "16/16 [==============================] - 0s 14ms/step - loss: 1.4314 - mae: 1.8915 - lr: 0.0093\n",
            "Epoch 61/100\n",
            "16/16 [==============================] - 0s 13ms/step - loss: 1.4678 - mae: 1.9331 - lr: 0.0100\n",
            "Epoch 62/100\n",
            "16/16 [==============================] - 0s 14ms/step - loss: 1.4716 - mae: 1.9231 - lr: 0.0108\n",
            "Epoch 63/100\n",
            "16/16 [==============================] - 0s 15ms/step - loss: 2.8746 - mae: 3.3411 - lr: 0.0117\n",
            "Epoch 64/100\n",
            "16/16 [==============================] - 0s 14ms/step - loss: 4.6116 - mae: 5.0992 - lr: 0.0126\n",
            "Epoch 65/100\n",
            "16/16 [==============================] - 0s 15ms/step - loss: 4.3343 - mae: 4.8139 - lr: 0.0136\n",
            "Epoch 66/100\n",
            "16/16 [==============================] - 0s 13ms/step - loss: 1.5873 - mae: 2.0278 - lr: 0.0147\n",
            "Epoch 67/100\n",
            "16/16 [==============================] - 0s 14ms/step - loss: 1.6164 - mae: 2.0623 - lr: 0.0158\n",
            "Epoch 68/100\n",
            "16/16 [==============================] - 0s 14ms/step - loss: 9.9506 - mae: 10.4362 - lr: 0.0171\n",
            "Epoch 69/100\n",
            "16/16 [==============================] - 0s 13ms/step - loss: 4.6619 - mae: 5.1365 - lr: 0.0185\n",
            "Epoch 70/100\n",
            "16/16 [==============================] - 0s 15ms/step - loss: 1.5188 - mae: 1.9495 - lr: 0.0200\n",
            "Epoch 71/100\n",
            "16/16 [==============================] - 0s 14ms/step - loss: 1.5982 - mae: 2.0441 - lr: 0.0215\n",
            "Epoch 72/100\n",
            "16/16 [==============================] - 0s 12ms/step - loss: 4.1424 - mae: 4.6146 - lr: 0.0233\n",
            "Epoch 73/100\n",
            "16/16 [==============================] - 0s 13ms/step - loss: 2.1202 - mae: 2.5697 - lr: 0.0251\n",
            "Epoch 74/100\n",
            "16/16 [==============================] - 0s 13ms/step - loss: 2.1080 - mae: 2.5631 - lr: 0.0271\n",
            "Epoch 75/100\n",
            "16/16 [==============================] - 0s 12ms/step - loss: 1.5579 - mae: 1.9904 - lr: 0.0293\n",
            "Epoch 76/100\n",
            "16/16 [==============================] - 0s 13ms/step - loss: 2.4376 - mae: 2.9254 - lr: 0.0316\n",
            "Epoch 77/100\n",
            "16/16 [==============================] - 0s 12ms/step - loss: 2.4506 - mae: 2.9047 - lr: 0.0341\n",
            "Epoch 78/100\n",
            "16/16 [==============================] - 0s 12ms/step - loss: 3.2802 - mae: 3.7221 - lr: 0.0369\n",
            "Epoch 79/100\n",
            "16/16 [==============================] - 0s 13ms/step - loss: 18.4682 - mae: 18.9585 - lr: 0.0398\n",
            "Epoch 80/100\n",
            "16/16 [==============================] - 0s 13ms/step - loss: 32.9837 - mae: 33.4828 - lr: 0.0430\n",
            "Epoch 81/100\n",
            "16/16 [==============================] - 0s 16ms/step - loss: 31.4386 - mae: 31.9383 - lr: 0.0464\n",
            "Epoch 82/100\n",
            "16/16 [==============================] - 0s 15ms/step - loss: 13.2650 - mae: 13.7581 - lr: 0.0501\n",
            "Epoch 83/100\n",
            "16/16 [==============================] - 0s 14ms/step - loss: 7.9701 - mae: 8.4544 - lr: 0.0541\n",
            "Epoch 84/100\n",
            "16/16 [==============================] - 0s 14ms/step - loss: 7.1933 - mae: 7.6705 - lr: 0.0584\n",
            "Epoch 85/100\n",
            "16/16 [==============================] - 0s 14ms/step - loss: 7.1770 - mae: 7.6527 - lr: 0.0631\n",
            "Epoch 86/100\n",
            "16/16 [==============================] - 0s 15ms/step - loss: 7.1976 - mae: 7.6739 - lr: 0.0681\n",
            "Epoch 87/100\n",
            "16/16 [==============================] - 0s 15ms/step - loss: 7.2130 - mae: 7.6864 - lr: 0.0736\n",
            "Epoch 88/100\n",
            "16/16 [==============================] - 0s 14ms/step - loss: 7.2607 - mae: 7.7400 - lr: 0.0794\n",
            "Epoch 89/100\n",
            "16/16 [==============================] - 0s 15ms/step - loss: 7.2342 - mae: 7.7107 - lr: 0.0858\n",
            "Epoch 90/100\n",
            "16/16 [==============================] - 0s 14ms/step - loss: 7.3912 - mae: 7.8676 - lr: 0.0926\n",
            "Epoch 91/100\n",
            "16/16 [==============================] - 0s 15ms/step - loss: 7.4749 - mae: 7.9554 - lr: 0.1000\n",
            "Epoch 92/100\n",
            "16/16 [==============================] - 0s 14ms/step - loss: 7.2296 - mae: 7.7068 - lr: 0.1080\n",
            "Epoch 93/100\n",
            "16/16 [==============================] - 0s 15ms/step - loss: 7.1838 - mae: 7.6608 - lr: 0.1166\n",
            "Epoch 94/100\n",
            "16/16 [==============================] - 0s 16ms/step - loss: 7.3093 - mae: 7.7869 - lr: 0.1259\n",
            "Epoch 95/100\n",
            "16/16 [==============================] - 0s 14ms/step - loss: 7.6432 - mae: 8.1233 - lr: 0.1359\n",
            "Epoch 96/100\n",
            "16/16 [==============================] - 0s 14ms/step - loss: 7.1561 - mae: 7.6331 - lr: 0.1468\n",
            "Epoch 97/100\n",
            "16/16 [==============================] - 0s 14ms/step - loss: 7.3386 - mae: 7.8151 - lr: 0.1585\n",
            "Epoch 98/100\n",
            "16/16 [==============================] - 0s 15ms/step - loss: 7.2059 - mae: 7.6828 - lr: 0.1711\n",
            "Epoch 99/100\n",
            "16/16 [==============================] - 0s 16ms/step - loss: 7.1728 - mae: 7.6485 - lr: 0.1848\n",
            "Epoch 100/100\n",
            "16/16 [==============================] - 0s 14ms/step - loss: 7.2102 - mae: 7.6872 - lr: 0.1995\n"
          ],
          "name": "stdout"
        }
      ]
    },
    {
      "cell_type": "code",
      "metadata": {
        "colab_type": "code",
        "id": "GfWVZ8k-8OJf",
        "colab": {
          "base_uri": "https://localhost:8080/",
          "height": 291
        },
        "outputId": "6eaefaa9-1a67-4020-a098-da3d1f23531b"
      },
      "source": [
        "plt.semilogx(history.history[\"lr\"], history.history[\"loss\"])\n",
        "plt.axis([1e-4, 1e-1, 0, 30])"
      ],
      "execution_count": 7,
      "outputs": [
        {
          "output_type": "execute_result",
          "data": {
            "text/plain": [
              "(0.0001, 0.1, 0.0, 30.0)"
            ]
          },
          "metadata": {
            "tags": []
          },
          "execution_count": 7
        },
        {
          "output_type": "display_data",
          "data": {
            "image/png": "[encoded data removed]",
            "text/plain": [
              "<Figure size 432x288 with 1 Axes>"
            ]
          },
          "metadata": {
            "tags": [],
            "needs_background": "light"
          }
        }
      ]
    },
    {
      "cell_type": "markdown",
      "metadata": {
        "id": "J3rI9Sop87GP",
        "colab_type": "text"
      },
      "source": [
        "Wavenet like model"
      ]
    },
    {
      "cell_type": "code",
      "metadata": {
        "colab_type": "code",
        "id": "WVrxlzbk8OJg",
        "colab": {
          "base_uri": "https://localhost:8080/",
          "height": 1000
        },
        "outputId": "b61ddcf5-3d9d-4f00-9dd1-a5fc150da003"
      },
      "source": [
        "keras.backend.clear_session()\n",
        "tf.random.set_seed(42)\n",
        "np.random.seed(42)\n",
        "\n",
        "window_size = 64\n",
        "train_set = seq2seq_window_dataset(x_train, window_size,\n",
        "                                   batch_size=128)\n",
        "valid_set = seq2seq_window_dataset(x_valid, window_size,\n",
        "                                   batch_size=128)\n",
        "\n",
        "model = keras.models.Sequential()\n",
        "model.add(keras.layers.InputLayer(input_shape=[None, 1]))\n",
        "for dilation_rate in (1, 2, 4, 8, 16, 32):\n",
        "    model.add(\n",
        "      keras.layers.Conv1D(filters=32,\n",
        "                          kernel_size=2,\n",
        "                          strides=1,\n",
        "                          dilation_rate=dilation_rate,\n",
        "                          padding=\"causal\",\n",
        "                          activation=\"relu\")\n",
        "    )\n",
        "model.add(keras.layers.Conv1D(filters=1, kernel_size=1))\n",
        "# the learning rate is set 0.001 base on the above calculation. This is specific for this data\n",
        "optimizer = keras.optimizers.Adam(lr=1e-3)\n",
        "model.compile(loss=keras.losses.Huber(),\n",
        "              optimizer=optimizer,\n",
        "              metrics=[\"mae\"])\n",
        "# saving the best model \n",
        "model_checkpoint = keras.callbacks.ModelCheckpoint(\n",
        "    \"my_checkpoint.h5\", save_best_only=True)\n",
        "early_stopping = keras.callbacks.EarlyStopping(patience=50)\n",
        "history = model.fit(train_set, epochs=500,\n",
        "                    validation_data=valid_set,\n",
        "                    callbacks=[early_stopping, model_checkpoint])"
      ],
      "execution_count": 8,
      "outputs": [
        {
          "output_type": "stream",
          "text": [
            "Epoch 1/500\n",
            "16/16 [==============================] - 1s 74ms/step - loss: 26.6284 - mae: 27.1274 - val_loss: 16.7646 - val_mae: 17.2598\n",
            "Epoch 2/500\n",
            "16/16 [==============================] - 0s 29ms/step - loss: 13.3314 - mae: 13.8247 - val_loss: 12.0371 - val_mae: 12.5257\n",
            "Epoch 3/500\n",
            "16/16 [==============================] - 0s 29ms/step - loss: 7.3446 - mae: 7.8242 - val_loss: 3.8478 - val_mae: 4.3097\n",
            "Epoch 4/500\n",
            "16/16 [==============================] - 0s 29ms/step - loss: 2.9094 - mae: 3.3604 - val_loss: 1.9099 - val_mae: 2.3540\n",
            "Epoch 5/500\n",
            "16/16 [==============================] - 0s 29ms/step - loss: 1.4939 - mae: 1.9135 - val_loss: 1.2197 - val_mae: 1.6578\n",
            "Epoch 6/500\n",
            "16/16 [==============================] - 0s 30ms/step - loss: 1.0170 - mae: 1.4104 - val_loss: 0.8037 - val_mae: 1.1920\n",
            "Epoch 7/500\n",
            "16/16 [==============================] - 0s 29ms/step - loss: 0.8009 - mae: 1.1703 - val_loss: 0.7069 - val_mae: 1.0840\n",
            "Epoch 8/500\n",
            "16/16 [==============================] - 0s 30ms/step - loss: 0.7457 - mae: 1.1181 - val_loss: 0.6424 - val_mae: 1.0149\n",
            "Epoch 9/500\n",
            "16/16 [==============================] - 0s 31ms/step - loss: 0.6481 - mae: 1.0000 - val_loss: 0.5411 - val_mae: 0.9032\n",
            "Epoch 10/500\n",
            "16/16 [==============================] - 0s 30ms/step - loss: 0.5954 - mae: 0.9377 - val_loss: 0.5132 - val_mae: 0.8676\n",
            "Epoch 11/500\n",
            "16/16 [==============================] - 0s 28ms/step - loss: 0.5644 - mae: 0.8976 - val_loss: 0.4945 - val_mae: 0.8472\n",
            "Epoch 12/500\n",
            "16/16 [==============================] - 0s 29ms/step - loss: 0.5520 - mae: 0.8824 - val_loss: 0.4909 - val_mae: 0.8400\n",
            "Epoch 13/500\n",
            "16/16 [==============================] - 0s 29ms/step - loss: 0.5459 - mae: 0.8740 - val_loss: 0.4878 - val_mae: 0.8432\n",
            "Epoch 14/500\n",
            "16/16 [==============================] - 0s 30ms/step - loss: 0.5382 - mae: 0.8633 - val_loss: 0.4851 - val_mae: 0.8370\n",
            "Epoch 15/500\n",
            "16/16 [==============================] - 0s 30ms/step - loss: 0.5435 - mae: 0.8743 - val_loss: 0.4846 - val_mae: 0.8376\n",
            "Epoch 16/500\n",
            "16/16 [==============================] - 0s 27ms/step - loss: 0.5399 - mae: 0.8690 - val_loss: 0.5001 - val_mae: 0.8680\n",
            "Epoch 17/500\n",
            "16/16 [==============================] - 0s 28ms/step - loss: 0.5413 - mae: 0.8717 - val_loss: 0.4805 - val_mae: 0.8306\n",
            "Epoch 18/500\n",
            "16/16 [==============================] - 0s 25ms/step - loss: 0.5300 - mae: 0.8537 - val_loss: 0.4858 - val_mae: 0.8285\n",
            "Epoch 19/500\n",
            "16/16 [==============================] - 0s 26ms/step - loss: 0.5348 - mae: 0.8626 - val_loss: 0.4812 - val_mae: 0.8334\n",
            "Epoch 20/500\n",
            "16/16 [==============================] - 0s 27ms/step - loss: 0.5263 - mae: 0.8493 - val_loss: 0.5941 - val_mae: 0.9979\n",
            "Epoch 21/500\n",
            "16/16 [==============================] - 0s 27ms/step - loss: 0.5321 - mae: 0.8596 - val_loss: 0.4869 - val_mae: 0.8467\n",
            "Epoch 22/500\n",
            "16/16 [==============================] - 0s 29ms/step - loss: 0.5234 - mae: 0.8456 - val_loss: 0.4784 - val_mae: 0.8286\n",
            "Epoch 23/500\n",
            "16/16 [==============================] - 0s 28ms/step - loss: 0.5225 - mae: 0.8448 - val_loss: 0.4771 - val_mae: 0.8239\n",
            "Epoch 24/500\n",
            "16/16 [==============================] - 0s 25ms/step - loss: 0.5252 - mae: 0.8501 - val_loss: 0.4829 - val_mae: 0.8394\n",
            "Epoch 25/500\n",
            "16/16 [==============================] - 0s 26ms/step - loss: 0.5248 - mae: 0.8490 - val_loss: 0.4781 - val_mae: 0.8289\n",
            "Epoch 26/500\n",
            "16/16 [==============================] - 0s 30ms/step - loss: 0.5195 - mae: 0.8408 - val_loss: 0.4763 - val_mae: 0.8245\n",
            "Epoch 27/500\n",
            "16/16 [==============================] - 0s 25ms/step - loss: 0.5210 - mae: 0.8436 - val_loss: 0.4846 - val_mae: 0.8437\n",
            "Epoch 28/500\n",
            "16/16 [==============================] - 0s 26ms/step - loss: 0.5143 - mae: 0.8334 - val_loss: 0.4892 - val_mae: 0.8530\n",
            "Epoch 29/500\n",
            "16/16 [==============================] - 0s 28ms/step - loss: 0.5171 - mae: 0.8387 - val_loss: 0.4761 - val_mae: 0.8226\n",
            "Epoch 30/500\n",
            "16/16 [==============================] - 0s 26ms/step - loss: 0.5121 - mae: 0.8300 - val_loss: 0.4791 - val_mae: 0.8197\n",
            "Epoch 31/500\n",
            "16/16 [==============================] - 0s 27ms/step - loss: 0.5208 - mae: 0.8452 - val_loss: 0.7582 - val_mae: 1.1889\n",
            "Epoch 32/500\n",
            "16/16 [==============================] - 0s 25ms/step - loss: 0.5574 - mae: 0.9012 - val_loss: 0.5384 - val_mae: 0.9274\n",
            "Epoch 33/500\n",
            "16/16 [==============================] - 0s 24ms/step - loss: 0.5158 - mae: 0.8375 - val_loss: 0.4773 - val_mae: 0.8187\n",
            "Epoch 34/500\n",
            "16/16 [==============================] - 0s 25ms/step - loss: 0.5128 - mae: 0.8321 - val_loss: 0.4824 - val_mae: 0.8221\n",
            "Epoch 35/500\n",
            "16/16 [==============================] - 0s 29ms/step - loss: 0.5164 - mae: 0.8384 - val_loss: 0.5273 - val_mae: 0.9118\n",
            "Epoch 36/500\n",
            "16/16 [==============================] - 0s 27ms/step - loss: 0.5262 - mae: 0.8553 - val_loss: 0.4846 - val_mae: 0.8428\n",
            "Epoch 37/500\n",
            "16/16 [==============================] - 0s 26ms/step - loss: 0.5264 - mae: 0.8551 - val_loss: 0.4841 - val_mae: 0.8236\n",
            "Epoch 38/500\n",
            "16/16 [==============================] - 0s 26ms/step - loss: 0.5126 - mae: 0.8329 - val_loss: 0.4763 - val_mae: 0.8203\n",
            "Epoch 39/500\n",
            "16/16 [==============================] - 0s 26ms/step - loss: 0.5108 - mae: 0.8303 - val_loss: 0.4779 - val_mae: 0.8258\n",
            "Epoch 40/500\n",
            "16/16 [==============================] - 0s 26ms/step - loss: 0.5073 - mae: 0.8244 - val_loss: 0.4795 - val_mae: 0.8194\n",
            "Epoch 41/500\n",
            "16/16 [==============================] - 0s 28ms/step - loss: 0.5075 - mae: 0.8248 - val_loss: 0.4787 - val_mae: 0.8290\n",
            "Epoch 42/500\n",
            "16/16 [==============================] - 0s 26ms/step - loss: 0.5127 - mae: 0.8349 - val_loss: 0.4929 - val_mae: 0.8585\n",
            "Epoch 43/500\n",
            "16/16 [==============================] - 0s 27ms/step - loss: 0.5333 - mae: 0.8679 - val_loss: 0.4768 - val_mae: 0.8195\n",
            "Epoch 44/500\n",
            "16/16 [==============================] - 0s 25ms/step - loss: 0.5097 - mae: 0.8292 - val_loss: 0.5348 - val_mae: 0.9224\n",
            "Epoch 45/500\n",
            "16/16 [==============================] - 0s 26ms/step - loss: 0.5305 - mae: 0.8629 - val_loss: 0.5018 - val_mae: 0.8456\n",
            "Epoch 46/500\n",
            "16/16 [==============================] - 0s 26ms/step - loss: 0.5155 - mae: 0.8394 - val_loss: 0.5189 - val_mae: 0.8995\n",
            "Epoch 47/500\n",
            "16/16 [==============================] - 0s 25ms/step - loss: 0.5072 - mae: 0.8263 - val_loss: 0.4827 - val_mae: 0.8213\n",
            "Epoch 48/500\n",
            "16/16 [==============================] - 0s 26ms/step - loss: 0.5159 - mae: 0.8408 - val_loss: 0.5261 - val_mae: 0.9101\n",
            "Epoch 49/500\n",
            "16/16 [==============================] - 0s 27ms/step - loss: 0.5089 - mae: 0.8296 - val_loss: 0.6414 - val_mae: 1.0569\n",
            "Epoch 50/500\n",
            "16/16 [==============================] - 0s 25ms/step - loss: 0.5462 - mae: 0.8888 - val_loss: 0.5830 - val_mae: 0.9857\n",
            "Epoch 51/500\n",
            "16/16 [==============================] - 0s 29ms/step - loss: 0.5219 - mae: 0.8507 - val_loss: 0.4758 - val_mae: 0.8181\n",
            "Epoch 52/500\n",
            "16/16 [==============================] - 0s 26ms/step - loss: 0.5099 - mae: 0.8306 - val_loss: 0.4781 - val_mae: 0.8179\n",
            "Epoch 53/500\n",
            "16/16 [==============================] - 0s 24ms/step - loss: 0.5128 - mae: 0.8360 - val_loss: 0.4930 - val_mae: 0.8336\n",
            "Epoch 54/500\n",
            "16/16 [==============================] - 0s 27ms/step - loss: 0.5048 - mae: 0.8228 - val_loss: 0.4752 - val_mae: 0.8199\n",
            "Epoch 55/500\n",
            "16/16 [==============================] - 0s 26ms/step - loss: 0.5071 - mae: 0.8270 - val_loss: 0.5385 - val_mae: 0.9276\n",
            "Epoch 56/500\n",
            "16/16 [==============================] - 0s 26ms/step - loss: 0.5106 - mae: 0.8333 - val_loss: 0.4752 - val_mae: 0.8197\n",
            "Epoch 57/500\n",
            "16/16 [==============================] - 0s 25ms/step - loss: 0.5017 - mae: 0.8179 - val_loss: 0.4846 - val_mae: 0.8442\n",
            "Epoch 58/500\n",
            "16/16 [==============================] - 0s 24ms/step - loss: 0.5033 - mae: 0.8211 - val_loss: 0.4791 - val_mae: 0.8179\n",
            "Epoch 59/500\n",
            "16/16 [==============================] - 0s 22ms/step - loss: 0.5049 - mae: 0.8236 - val_loss: 0.4984 - val_mae: 0.8408\n",
            "Epoch 60/500\n",
            "16/16 [==============================] - 0s 23ms/step - loss: 0.5270 - mae: 0.8593 - val_loss: 0.5508 - val_mae: 0.9436\n",
            "Epoch 61/500\n",
            "16/16 [==============================] - 0s 25ms/step - loss: 0.5158 - mae: 0.8420 - val_loss: 0.4807 - val_mae: 0.8190\n",
            "Epoch 62/500\n",
            "16/16 [==============================] - 0s 22ms/step - loss: 0.5081 - mae: 0.8288 - val_loss: 0.5015 - val_mae: 0.8745\n",
            "Epoch 63/500\n",
            "16/16 [==============================] - 0s 23ms/step - loss: 0.5079 - mae: 0.8295 - val_loss: 0.4819 - val_mae: 0.8206\n",
            "Epoch 64/500\n",
            "16/16 [==============================] - 0s 24ms/step - loss: 0.5114 - mae: 0.8358 - val_loss: 0.5560 - val_mae: 0.9506\n",
            "Epoch 65/500\n",
            "16/16 [==============================] - 0s 24ms/step - loss: 0.5143 - mae: 0.8405 - val_loss: 0.4973 - val_mae: 0.8398\n",
            "Epoch 66/500\n",
            "16/16 [==============================] - 0s 23ms/step - loss: 0.5144 - mae: 0.8404 - val_loss: 0.4873 - val_mae: 0.8495\n",
            "Epoch 67/500\n",
            "16/16 [==============================] - 0s 22ms/step - loss: 0.5046 - mae: 0.8244 - val_loss: 0.4760 - val_mae: 0.8229\n",
            "Epoch 68/500\n",
            "16/16 [==============================] - 0s 24ms/step - loss: 0.5188 - mae: 0.8463 - val_loss: 0.6089 - val_mae: 0.9903\n",
            "Epoch 69/500\n",
            "16/16 [==============================] - 0s 23ms/step - loss: 0.5537 - mae: 0.8979 - val_loss: 0.4831 - val_mae: 0.8218\n",
            "Epoch 70/500\n",
            "16/16 [==============================] - 0s 22ms/step - loss: 0.5275 - mae: 0.8599 - val_loss: 0.5113 - val_mae: 0.8880\n",
            "Epoch 71/500\n",
            "16/16 [==============================] - 0s 24ms/step - loss: 0.5101 - mae: 0.8337 - val_loss: 0.4835 - val_mae: 0.8410\n",
            "Epoch 72/500\n",
            "16/16 [==============================] - 0s 23ms/step - loss: 0.5089 - mae: 0.8320 - val_loss: 0.4829 - val_mae: 0.8396\n",
            "Epoch 73/500\n",
            "16/16 [==============================] - 0s 22ms/step - loss: 0.5062 - mae: 0.8280 - val_loss: 0.4934 - val_mae: 0.8347\n",
            "Epoch 74/500\n",
            "16/16 [==============================] - 0s 23ms/step - loss: 0.5148 - mae: 0.8410 - val_loss: 0.4950 - val_mae: 0.8367\n",
            "Epoch 75/500\n",
            "16/16 [==============================] - 0s 24ms/step - loss: 0.5046 - mae: 0.8245 - val_loss: 0.4786 - val_mae: 0.8293\n",
            "Epoch 76/500\n",
            "16/16 [==============================] - 0s 22ms/step - loss: 0.5034 - mae: 0.8231 - val_loss: 0.4838 - val_mae: 0.8222\n",
            "Epoch 77/500\n",
            "16/16 [==============================] - 0s 22ms/step - loss: 0.5020 - mae: 0.8205 - val_loss: 0.4913 - val_mae: 0.8572\n",
            "Epoch 78/500\n",
            "16/16 [==============================] - 0s 22ms/step - loss: 0.5017 - mae: 0.8205 - val_loss: 0.4786 - val_mae: 0.8300\n",
            "Epoch 79/500\n",
            "16/16 [==============================] - 0s 23ms/step - loss: 0.4987 - mae: 0.8159 - val_loss: 0.4841 - val_mae: 0.8423\n",
            "Epoch 80/500\n",
            "16/16 [==============================] - 0s 23ms/step - loss: 0.4975 - mae: 0.8142 - val_loss: 0.4796 - val_mae: 0.8332\n",
            "Epoch 81/500\n",
            "16/16 [==============================] - 0s 22ms/step - loss: 0.4967 - mae: 0.8127 - val_loss: 0.4757 - val_mae: 0.8182\n",
            "Epoch 82/500\n",
            "16/16 [==============================] - 0s 22ms/step - loss: 0.4978 - mae: 0.8149 - val_loss: 0.4885 - val_mae: 0.8514\n",
            "Epoch 83/500\n",
            "16/16 [==============================] - 0s 23ms/step - loss: 0.5009 - mae: 0.8200 - val_loss: 0.4762 - val_mae: 0.8232\n",
            "Epoch 84/500\n",
            "16/16 [==============================] - 0s 25ms/step - loss: 0.5026 - mae: 0.8229 - val_loss: 0.4775 - val_mae: 0.8264\n",
            "Epoch 85/500\n",
            "16/16 [==============================] - 0s 22ms/step - loss: 0.5005 - mae: 0.8199 - val_loss: 0.4841 - val_mae: 0.8421\n",
            "Epoch 86/500\n",
            "16/16 [==============================] - 0s 23ms/step - loss: 0.5001 - mae: 0.8189 - val_loss: 0.4815 - val_mae: 0.8204\n",
            "Epoch 87/500\n",
            "16/16 [==============================] - 0s 24ms/step - loss: 0.5032 - mae: 0.8241 - val_loss: 0.4789 - val_mae: 0.8181\n",
            "Epoch 88/500\n",
            "16/16 [==============================] - 0s 22ms/step - loss: 0.5051 - mae: 0.8267 - val_loss: 0.4987 - val_mae: 0.8422\n",
            "Epoch 89/500\n",
            "16/16 [==============================] - 0s 24ms/step - loss: 0.5261 - mae: 0.8605 - val_loss: 0.6033 - val_mae: 1.0114\n",
            "Epoch 90/500\n",
            "16/16 [==============================] - 0s 24ms/step - loss: 0.5351 - mae: 0.8748 - val_loss: 0.6218 - val_mae: 1.0332\n",
            "Epoch 91/500\n",
            "16/16 [==============================] - 0s 23ms/step - loss: 0.5259 - mae: 0.8605 - val_loss: 0.5264 - val_mae: 0.9103\n",
            "Epoch 92/500\n",
            "16/16 [==============================] - 0s 23ms/step - loss: 0.5076 - mae: 0.8318 - val_loss: 0.4823 - val_mae: 0.8392\n",
            "Epoch 93/500\n",
            "16/16 [==============================] - 0s 22ms/step - loss: 0.4981 - mae: 0.8160 - val_loss: 0.4762 - val_mae: 0.8180\n",
            "Epoch 94/500\n",
            "16/16 [==============================] - 0s 22ms/step - loss: 0.4970 - mae: 0.8138 - val_loss: 0.4845 - val_mae: 0.8423\n",
            "Epoch 95/500\n",
            "16/16 [==============================] - 0s 23ms/step - loss: 0.4968 - mae: 0.8145 - val_loss: 0.4754 - val_mae: 0.8209\n",
            "Epoch 96/500\n",
            "16/16 [==============================] - 0s 22ms/step - loss: 0.4983 - mae: 0.8166 - val_loss: 0.4985 - val_mae: 0.8685\n",
            "Epoch 97/500\n",
            "16/16 [==============================] - 0s 22ms/step - loss: 0.5038 - mae: 0.8262 - val_loss: 0.4797 - val_mae: 0.8199\n",
            "Epoch 98/500\n",
            "16/16 [==============================] - 0s 22ms/step - loss: 0.5020 - mae: 0.8221 - val_loss: 0.4758 - val_mae: 0.8209\n",
            "Epoch 99/500\n",
            "16/16 [==============================] - 0s 24ms/step - loss: 0.4984 - mae: 0.8172 - val_loss: 0.5106 - val_mae: 0.8863\n",
            "Epoch 100/500\n",
            "16/16 [==============================] - 0s 23ms/step - loss: 0.5093 - mae: 0.8343 - val_loss: 0.4873 - val_mae: 0.8274\n",
            "Epoch 101/500\n",
            "16/16 [==============================] - 0s 24ms/step - loss: 0.5129 - mae: 0.8407 - val_loss: 0.4847 - val_mae: 0.8242\n",
            "Epoch 102/500\n",
            "16/16 [==============================] - 0s 23ms/step - loss: 0.5079 - mae: 0.8331 - val_loss: 0.4834 - val_mae: 0.8399\n",
            "Epoch 103/500\n",
            "16/16 [==============================] - 0s 24ms/step - loss: 0.5120 - mae: 0.8399 - val_loss: 0.6323 - val_mae: 1.0463\n",
            "Epoch 104/500\n",
            "16/16 [==============================] - 0s 23ms/step - loss: 0.5406 - mae: 0.8824 - val_loss: 0.4900 - val_mae: 0.8528\n"
          ],
          "name": "stdout"
        }
      ]
    },
    {
      "cell_type": "code",
      "metadata": {
        "colab_type": "code",
        "id": "eNwWZB0d8OJh",
        "colab": {}
      },
      "source": [
        "model = keras.models.load_model(\"my_checkpoint.h5\")"
      ],
      "execution_count": 9,
      "outputs": []
    },
    {
      "cell_type": "code",
      "metadata": {
        "colab_type": "code",
        "id": "PgYwn9VM8OJi",
        "colab": {}
      },
      "source": [
        "cnn_forecast = model_forecast(model, series[..., np.newaxis], window_size)\n",
        "cnn_forecast = cnn_forecast[split_time - window_size:-1, -1, 0]"
      ],
      "execution_count": 10,
      "outputs": []
    },
    {
      "cell_type": "code",
      "metadata": {
        "colab_type": "code",
        "id": "MCgshNPx8OJi",
        "colab": {
          "base_uri": "https://localhost:8080/",
          "height": 388
        },
        "outputId": "f7ef8567-f713-4ddc-ff2b-480de5f40146"
      },
      "source": [
        "plt.figure(figsize=(10, 6))\n",
        "plot_series(time_valid, x_valid)\n",
        "plot_series(time_valid, cnn_forecast)"
      ],
      "execution_count": 11,
      "outputs": [
        {
          "output_type": "display_data",
          "data": {
            "image/png": "[encoded data removed]",
            "text/plain": [
              "<Figure size 720x432 with 1 Axes>"
            ]
          },
          "metadata": {
            "tags": [],
            "needs_background": "light"
          }
        }
      ]
    },
    {
      "cell_type": "code",
      "metadata": {
        "colab_type": "code",
        "id": "epK1gFEN8OJj",
        "colab": {
          "base_uri": "https://localhost:8080/",
          "height": 35
        },
        "outputId": "1822b5f2-a3fe-4948-d283-ebd7c0e27a99"
      },
      "source": [
        "keras.metrics.mean_absolute_error(x_valid, cnn_forecast).numpy()"
      ],
      "execution_count": 12,
      "outputs": [
        {
          "output_type": "execute_result",
          "data": {
            "text/plain": [
              "0.8573959"
            ]
          },
          "metadata": {
            "tags": []
          },
          "execution_count": 12
        }
      ]
    }
  ]
}